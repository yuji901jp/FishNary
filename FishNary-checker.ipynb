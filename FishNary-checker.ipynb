{
 "cells": [
  {
   "cell_type": "markdown",
   "metadata": {},
   "source": [
    "## 学習済みデータの読み込み"
   ]
  },
  {
   "cell_type": "code",
   "execution_count": 1,
   "metadata": {},
   "outputs": [
    {
     "name": "stderr",
     "output_type": "stream",
     "text": [
      "Using TensorFlow backend.\n"
     ]
    }
   ],
   "source": [
    "from keras.models import Sequential, model_from_json"
   ]
  },
  {
   "cell_type": "code",
   "execution_count": 2,
   "metadata": {},
   "outputs": [],
   "source": [
    "# モデル構造の読み込み\n",
    "model = model_from_json(open('./model-out/FishNary-3_model_setting.json', 'r').read())\n",
    "\n",
    "# モデル中の各重みの読み込み\n",
    "model.load_weights('./model-out/FishNary-3_model.h5')"
   ]
  },
  {
   "cell_type": "code",
   "execution_count": 3,
   "metadata": {},
   "outputs": [
    {
     "name": "stdout",
     "output_type": "stream",
     "text": [
      "_________________________________________________________________\n",
      "Layer (type)                 Output Shape              Param #   \n",
      "=================================================================\n",
      "CNN-Conv2D-1 (Conv2D)        (None, 34, 34, 64)        15616     \n",
      "_________________________________________________________________\n",
      "CNN-Conv2D-2 (Conv2D)        (None, 12, 12, 64)        331840    \n",
      "_________________________________________________________________\n",
      "Pooling-MaxPooling2D-1 (MaxP (None, 6, 6, 64)          0         \n",
      "_________________________________________________________________\n",
      "Dropout-1 (Dropout)          (None, 6, 6, 64)          0         \n",
      "_________________________________________________________________\n",
      "CNN-Conv2D-3 (Conv2D)        (None, 6, 6, 64)          36928     \n",
      "_________________________________________________________________\n",
      "CNN-Conv2D-4 (Conv2D)        (None, 6, 6, 64)          36928     \n",
      "_________________________________________________________________\n",
      "Pooling-MaxPooling2D-2 (MaxP (None, 3, 3, 64)          0         \n",
      "_________________________________________________________________\n",
      "Dropout-2 (Dropout)          (None, 3, 3, 64)          0         \n",
      "_________________________________________________________________\n",
      "Flatten-1 (Flatten)          (None, 576)               0         \n",
      "_________________________________________________________________\n",
      "ALL-Dense-1 (Dense)          (None, 1024)              590848    \n",
      "_________________________________________________________________\n",
      "Dropout-3 (Dropout)          (None, 1024)              0         \n",
      "_________________________________________________________________\n",
      "ALL-Dense-2 (Dense)          (None, 3)                 3075      \n",
      "=================================================================\n",
      "Total params: 1,015,235\n",
      "Trainable params: 1,015,235\n",
      "Non-trainable params: 0\n",
      "_________________________________________________________________\n"
     ]
    }
   ],
   "source": [
    "model.summary()"
   ]
  },
  {
   "cell_type": "markdown",
   "metadata": {},
   "source": [
    "# 判定用の画像読み込み"
   ]
  },
  {
   "cell_type": "code",
   "execution_count": 4,
   "metadata": {},
   "outputs": [],
   "source": [
    "import numpy as np\n",
    "from tensorflow.python.keras.preprocessing.image import load_img\n",
    "from tensorflow.python.keras.preprocessing.image import img_to_array"
   ]
  },
  {
   "cell_type": "code",
   "execution_count": 5,
   "metadata": {},
   "outputs": [],
   "source": [
    "check_data = []\n",
    "resolution_x = 100\n",
    "resolution_y = 100"
   ]
  },
  {
   "cell_type": "code",
   "execution_count": 6,
   "metadata": {},
   "outputs": [],
   "source": [
    "img_path = './images/test-madai.jpg'\n",
    "#img_path = './images/test-buri.jpg'\n",
    "#img_path = './images/test-hiramasa.jpg'\n",
    "\n",
    "img = load_img(img_path, target_size=(resolution_x, resolution_y))\n",
    "check_data.append(img_to_array(img)/255.)"
   ]
  },
  {
   "cell_type": "code",
   "execution_count": 7,
   "metadata": {},
   "outputs": [
    {
     "data": {
      "text/plain": [
       "1"
      ]
     },
     "execution_count": 7,
     "metadata": {},
     "output_type": "execute_result"
    }
   ],
   "source": [
    "#読み込まれた画像数を確認\n",
    "len(check_data)"
   ]
  },
  {
   "cell_type": "code",
   "execution_count": 8,
   "metadata": {},
   "outputs": [
    {
     "name": "stdout",
     "output_type": "stream",
     "text": [
      "check_data.shape :  (1, 100, 100, 3)\n"
     ]
    }
   ],
   "source": [
    "check_data = np.array(check_data)\n",
    "print('check_data.shape : ', check_data.shape)"
   ]
  },
  {
   "cell_type": "code",
   "execution_count": 9,
   "metadata": {},
   "outputs": [],
   "source": [
    "check_result = model.predict(check_data)"
   ]
  },
  {
   "cell_type": "code",
   "execution_count": 10,
   "metadata": {},
   "outputs": [],
   "source": [
    "# ブリ : 0       →出力例[ 0.99 , 0.05, 0.05]\n",
    "# ヒラマサ : 1→出力例[ 0.05 , 0.99, 0.05]\n",
    "# マダイ : 2   →出力例[ 0.05 , 0.05, 0.99]"
   ]
  },
  {
   "cell_type": "code",
   "execution_count": 11,
   "metadata": {},
   "outputs": [],
   "source": [
    "result = check_result[0].tolist()"
   ]
  },
  {
   "cell_type": "code",
   "execution_count": 13,
   "metadata": {},
   "outputs": [
    {
     "name": "stdout",
     "output_type": "stream",
     "text": [
      "ブリ        : 0.00000424\n",
      "ヒラマサ : 0.00424726\n",
      "マダイ    : 0.99574858\n"
     ]
    }
   ],
   "source": [
    "from decimal import *\n",
    "\n",
    "for i in range (len(result)):\n",
    "    if i == 0:\n",
    "        print('ブリ        : {}'.format(Decimal(result[0]).quantize(Decimal(\"0.00000001\"),rounding=ROUND_HALF_UP)))\n",
    "    elif i == 1:\n",
    "        print('ヒラマサ : {}'.format(Decimal(result[1]).quantize(Decimal(\"0.00000001\"),rounding=ROUND_HALF_UP)))\n",
    "    elif i == 2:\n",
    "        print('マダイ    : {}'.format(Decimal(result[2]).quantize(Decimal(\"0.00000001\"),rounding=ROUND_HALF_UP)))"
   ]
  },
  {
   "cell_type": "code",
   "execution_count": null,
   "metadata": {},
   "outputs": [],
   "source": []
  }
 ],
 "metadata": {
  "kernelspec": {
   "display_name": "Python 3",
   "language": "python",
   "name": "python3"
  },
  "language_info": {
   "codemirror_mode": {
    "name": "ipython",
    "version": 3
   },
   "file_extension": ".py",
   "mimetype": "text/x-python",
   "name": "python",
   "nbconvert_exporter": "python",
   "pygments_lexer": "ipython3",
   "version": "3.6.7"
  }
 },
 "nbformat": 4,
 "nbformat_minor": 2
}
