{
 "cells": [
  {
   "cell_type": "code",
   "execution_count": 15,
   "metadata": {},
   "outputs": [],
   "source": [
    "from tensorflow.python.keras.preprocessing.image import load_img\n",
    "from tensorflow.python.keras.preprocessing.image import img_to_array\n",
    "import os\n",
    "import glob\n",
    "import numpy as np"
   ]
  },
  {
   "cell_type": "code",
   "execution_count": 16,
   "metadata": {},
   "outputs": [],
   "source": [
    "data_train = []\n",
    "label_train = []\n",
    "data_test = []\n",
    "label_test = []\n",
    "#train = 1.00 # 8割を学習用、2割を検証用に利用する\n",
    "resolution_x = 100\n",
    "resolution_y = 100"
   ]
  },
  {
   "cell_type": "markdown",
   "metadata": {},
   "source": [
    "# データの読み込み "
   ]
  },
  {
   "cell_type": "markdown",
   "metadata": {},
   "source": [
    "## ブリ: カテゴリ0"
   ]
  },
  {
   "cell_type": "code",
   "execution_count": 17,
   "metadata": {},
   "outputs": [
    {
     "name": "stdout",
     "output_type": "stream",
     "text": [
      "File Number for buri :  99\n"
     ]
    }
   ],
   "source": [
    "# 画像群の読み込み(ブリ : カテゴリ1)\n",
    "images_buri = glob.glob(os.path.join(\"./train/buri/\", \"*.jpeg\"))\n",
    "print('File Number for buri : ', len(images_buri))"
   ]
  },
  {
   "cell_type": "code",
   "execution_count": 18,
   "metadata": {},
   "outputs": [],
   "source": [
    "for i in range (len(images_buri)):\n",
    "    img_path = images_buri[i]\n",
    "    img = load_img(img_path,target_size = (resolution_x, resolution_y))\n",
    "    \n",
    "    data_train.append(img_to_array(img)/255.)\n",
    "    label_train.append(0)"
   ]
  },
  {
   "cell_type": "markdown",
   "metadata": {},
   "source": [
    "# ヒラマサ : カテゴリ1"
   ]
  },
  {
   "cell_type": "code",
   "execution_count": 19,
   "metadata": {},
   "outputs": [
    {
     "name": "stdout",
     "output_type": "stream",
     "text": [
      "File Number for hiramasa :  99\n"
     ]
    }
   ],
   "source": [
    "# 画像群の読み込み(ヒラマサ : カテゴリ2)\n",
    "images_hiramasa = glob.glob(os.path.join(\"./train/hiramasa/\", \"*.jpeg\"))\n",
    "print('File Number for hiramasa : ', len(images_hiramasa))"
   ]
  },
  {
   "cell_type": "code",
   "execution_count": 20,
   "metadata": {},
   "outputs": [],
   "source": [
    "for i in range (len(images_hiramasa)):\n",
    "    img_path = images_hiramasa[i]\n",
    "    img = load_img(img_path,target_size = (resolution_x, resolution_y))\n",
    "    \n",
    "    data_train.append(img_to_array(img)/255.)\n",
    "    label_train.append(1)"
   ]
  },
  {
   "cell_type": "markdown",
   "metadata": {},
   "source": [
    "# マダイ : カテゴリ2"
   ]
  },
  {
   "cell_type": "code",
   "execution_count": 21,
   "metadata": {},
   "outputs": [
    {
     "name": "stdout",
     "output_type": "stream",
     "text": [
      "File Number for madai :  99\n"
     ]
    }
   ],
   "source": [
    "# 画像群の読み込み(ヒラマサ : カテゴリ2)\n",
    "images_madai = glob.glob(os.path.join(\"./train/madai/\", \"*.jpeg\"))\n",
    "print('File Number for madai : ', len(images_madai))"
   ]
  },
  {
   "cell_type": "code",
   "execution_count": 22,
   "metadata": {},
   "outputs": [],
   "source": [
    "for i in range (len(images_madai)):\n",
    "    img_path = images_madai[i]\n",
    "    img = load_img(img_path,target_size = (resolution_x, resolution_y))\n",
    "    \n",
    "    data_train.append(img_to_array(img)/255.)\n",
    "    label_train.append(2)"
   ]
  },
  {
   "cell_type": "markdown",
   "metadata": {},
   "source": [
    "## 読み込んだデータの確認"
   ]
  },
  {
   "cell_type": "code",
   "execution_count": 23,
   "metadata": {},
   "outputs": [
    {
     "name": "stdout",
     "output_type": "stream",
     "text": [
      "train datas :  297 label  :  297\n",
      "test datas  :  0 label :  0\n"
     ]
    }
   ],
   "source": [
    "print('train datas : ', len(data_train), 'label  : ', len(label_train))\n",
    "print('test datas  : ', len(data_test), 'label : ', len(label_test))"
   ]
  },
  {
   "cell_type": "code",
   "execution_count": 24,
   "metadata": {},
   "outputs": [
    {
     "name": "stdout",
     "output_type": "stream",
     "text": [
      "data_train.shape :  (297, 100, 100, 3)\n",
      "data_test.shape :  (0,)\n",
      "label_train.shape :  (297,)\n",
      "label_test.shape :  (0,)\n"
     ]
    }
   ],
   "source": [
    "data_train = np.array(data_train)\n",
    "data_test = np.array(data_test)\n",
    "label_train = np.array(label_train)\n",
    "label_test = np.array(label_test)\n",
    "print('data_train.shape : ', data_train.shape)\n",
    "print('data_test.shape : ', data_test.shape)\n",
    "print('label_train.shape : ', label_train.shape)\n",
    "print('label_test.shape : ', label_test.shape)"
   ]
  },
  {
   "cell_type": "code",
   "execution_count": 25,
   "metadata": {},
   "outputs": [],
   "source": [
    "#data_train.tolist()"
   ]
  },
  {
   "cell_type": "code",
   "execution_count": 26,
   "metadata": {},
   "outputs": [],
   "source": [
    "#data_train"
   ]
  },
  {
   "cell_type": "code",
   "execution_count": 27,
   "metadata": {},
   "outputs": [
    {
     "data": {
      "text/plain": [
       "2"
      ]
     },
     "execution_count": 27,
     "metadata": {},
     "output_type": "execute_result"
    }
   ],
   "source": [
    "label_train[240]"
   ]
  },
  {
   "cell_type": "markdown",
   "metadata": {},
   "source": [
    "## データの正規化"
   ]
  },
  {
   "cell_type": "code",
   "execution_count": 28,
   "metadata": {},
   "outputs": [],
   "source": [
    "from tensorflow.python.keras.utils import to_categorical"
   ]
  },
  {
   "cell_type": "code",
   "execution_count": 29,
   "metadata": {},
   "outputs": [],
   "source": [
    "#label_test"
   ]
  },
  {
   "cell_type": "code",
   "execution_count": 31,
   "metadata": {},
   "outputs": [],
   "source": [
    "#クラスラベルの1-hotベクトル化\n",
    "label_train = to_categorical(label_train, 3)\n",
    "label_test = to_categorical(label_test, 3)"
   ]
  },
  {
   "cell_type": "code",
   "execution_count": 32,
   "metadata": {},
   "outputs": [
    {
     "data": {
      "text/plain": [
       "(297, 3)"
      ]
     },
     "execution_count": 32,
     "metadata": {},
     "output_type": "execute_result"
    }
   ],
   "source": [
    "label_train.shape"
   ]
  },
  {
   "cell_type": "code",
   "execution_count": 33,
   "metadata": {},
   "outputs": [
    {
     "data": {
      "text/plain": [
       "297"
      ]
     },
     "execution_count": 33,
     "metadata": {},
     "output_type": "execute_result"
    }
   ],
   "source": [
    "len(label_train)"
   ]
  },
  {
   "cell_type": "code",
   "execution_count": 34,
   "metadata": {},
   "outputs": [
    {
     "data": {
      "text/plain": [
       "0"
      ]
     },
     "execution_count": 34,
     "metadata": {},
     "output_type": "execute_result"
    }
   ],
   "source": [
    "len(label_test)"
   ]
  },
  {
   "cell_type": "code",
   "execution_count": 35,
   "metadata": {},
   "outputs": [
    {
     "data": {
      "text/plain": [
       "[0.0, 1.0, 0.0]"
      ]
     },
     "execution_count": 35,
     "metadata": {},
     "output_type": "execute_result"
    }
   ],
   "source": [
    "label_train[140].tolist()"
   ]
  },
  {
   "cell_type": "markdown",
   "metadata": {},
   "source": [
    "## モデルの構築"
   ]
  },
  {
   "cell_type": "markdown",
   "metadata": {},
   "source": [
    "### 畳み込み層の追加"
   ]
  },
  {
   "cell_type": "code",
   "execution_count": 36,
   "metadata": {},
   "outputs": [],
   "source": [
    "from tensorflow.python.keras.models import Sequential\n",
    "model = Sequential()"
   ]
  },
  {
   "cell_type": "code",
   "execution_count": 37,
   "metadata": {},
   "outputs": [],
   "source": [
    "from tensorflow.python.keras.layers import Conv2D\n",
    "\n",
    "model.add(\n",
    "    Conv2D(\n",
    "        filters = 64,\n",
    "        input_shape = (resolution_x, resolution_y, 3),\n",
    "        kernel_size = (9, 9),\n",
    "        strides = (3, 3),\n",
    "        padding = 'same',\n",
    "        activation = 'relu',\n",
    "        name = 'CNN-Conv2D-1'\n",
    "        )\n",
    ")\n",
    "\n",
    "model.add(\n",
    "    Conv2D(\n",
    "        filters = 64,\n",
    "        kernel_size = (9, 9),\n",
    "        strides = (3, 3),\n",
    "        padding = 'same',\n",
    "        activation = 'relu',\n",
    "        name = 'CNN-Conv2D-2'\n",
    "    )\n",
    ")"
   ]
  },
  {
   "cell_type": "markdown",
   "metadata": {},
   "source": [
    "## プーリング層の追加"
   ]
  },
  {
   "cell_type": "code",
   "execution_count": 38,
   "metadata": {},
   "outputs": [],
   "source": [
    "from tensorflow.python.keras.layers import MaxPooling2D\n",
    "\n",
    "model.add(\n",
    "    MaxPooling2D(\n",
    "        pool_size = (2,2),\n",
    "        name = 'Pooling-MaxPooling2D-1'\n",
    "    )\n",
    ")"
   ]
  },
  {
   "cell_type": "markdown",
   "metadata": {},
   "source": [
    "## ドロップアウト層の追加"
   ]
  },
  {
   "cell_type": "code",
   "execution_count": 39,
   "metadata": {},
   "outputs": [],
   "source": [
    "from tensorflow.python.keras.layers import Dropout\n",
    "\n",
    "model.add(\n",
    "    Dropout(\n",
    "    0.25,\n",
    "    name = 'Dropout-1'\n",
    "    )\n",
    ")"
   ]
  },
  {
   "cell_type": "markdown",
   "metadata": {},
   "source": [
    "## 畳み込み層、プーリング層の追加"
   ]
  },
  {
   "cell_type": "code",
   "execution_count": 40,
   "metadata": {},
   "outputs": [],
   "source": [
    "model.add(\n",
    "    Conv2D(\n",
    "        filters = 64,\n",
    "        kernel_size = (3, 3),\n",
    "        strides = (1, 1),\n",
    "        padding = 'same',\n",
    "        activation = 'relu',\n",
    "        name = 'CNN-Conv2D-3'\n",
    "    )\n",
    ")\n",
    "\n",
    "model.add(\n",
    "    Conv2D(\n",
    "        filters = 64,\n",
    "        kernel_size = (3, 3),\n",
    "        strides = (1, 1),\n",
    "        padding = 'same',\n",
    "        activation = 'relu',\n",
    "        name = 'CNN-Conv2D-4'\n",
    "    )\n",
    ")\n",
    "\n",
    "model.add(\n",
    "    MaxPooling2D(\n",
    "        pool_size = (2,2),\n",
    "        name = 'Pooling-MaxPooling2D-2'\n",
    "    )\n",
    ")\n",
    "\n",
    "model.add(\n",
    "    Dropout(\n",
    "    0.25,\n",
    "    name = 'Dropout-2'\n",
    "    )\n",
    ")"
   ]
  },
  {
   "cell_type": "code",
   "execution_count": 41,
   "metadata": {},
   "outputs": [
    {
     "data": {
      "text/plain": [
       "(None, 3, 3, 64)"
      ]
     },
     "execution_count": 41,
     "metadata": {},
     "output_type": "execute_result"
    }
   ],
   "source": [
    "model.output_shape"
   ]
  },
  {
   "cell_type": "markdown",
   "metadata": {},
   "source": [
    "## Flattenレイヤーの追加"
   ]
  },
  {
   "cell_type": "code",
   "execution_count": 42,
   "metadata": {},
   "outputs": [],
   "source": [
    "from tensorflow.python.keras.layers import Flatten\n",
    "\n",
    "model.add(\n",
    "    Flatten(\n",
    "        name = 'Flatten-1'\n",
    "    )\n",
    ")"
   ]
  },
  {
   "cell_type": "code",
   "execution_count": 43,
   "metadata": {},
   "outputs": [
    {
     "data": {
      "text/plain": [
       "(None, 576)"
      ]
     },
     "execution_count": 43,
     "metadata": {},
     "output_type": "execute_result"
    }
   ],
   "source": [
    "model.output_shape"
   ]
  },
  {
   "cell_type": "markdown",
   "metadata": {},
   "source": [
    "## 全結合層の追加"
   ]
  },
  {
   "cell_type": "code",
   "execution_count": 44,
   "metadata": {},
   "outputs": [],
   "source": [
    "from tensorflow.python.keras.layers import Dense"
   ]
  },
  {
   "cell_type": "code",
   "execution_count": 45,
   "metadata": {},
   "outputs": [],
   "source": [
    "model.add(\n",
    "    Dense(\n",
    "        units = 1024,\n",
    "        activation = 'relu',\n",
    "        name = 'ALL-Dense-1'\n",
    "    )\n",
    ")\n",
    "\n",
    "model.add(\n",
    "    Dropout(\n",
    "    0.25,\n",
    "    name = 'Dropout-3'\n",
    "    )\n",
    ")\n",
    "\n",
    "model.add(\n",
    "    Dense(\n",
    "        units = 3,\n",
    "        activation = 'softmax',\n",
    "        name = 'ALL-Dense-2'\n",
    "    )\n",
    ")"
   ]
  },
  {
   "cell_type": "code",
   "execution_count": 29,
   "metadata": {},
   "outputs": [
    {
     "name": "stdout",
     "output_type": "stream",
     "text": [
      "_________________________________________________________________\n",
      "Layer (type)                 Output Shape              Param #   \n",
      "=================================================================\n",
      "CNN-Conv2D-1 (Conv2D)        (None, 34, 34, 64)        15616     \n",
      "_________________________________________________________________\n",
      "CNN-Conv2D-2 (Conv2D)        (None, 12, 12, 64)        331840    \n",
      "_________________________________________________________________\n",
      "Pooling-MaxPooling2D-1 (MaxP (None, 6, 6, 64)          0         \n",
      "_________________________________________________________________\n",
      "Dropout-1 (Dropout)          (None, 6, 6, 64)          0         \n",
      "_________________________________________________________________\n",
      "CNN-Conv2D-3 (Conv2D)        (None, 6, 6, 64)          36928     \n",
      "_________________________________________________________________\n",
      "CNN-Conv2D-4 (Conv2D)        (None, 6, 6, 64)          36928     \n",
      "_________________________________________________________________\n",
      "Pooling-MaxPooling2D-2 (MaxP (None, 3, 3, 64)          0         \n",
      "_________________________________________________________________\n",
      "Dropout-2 (Dropout)          (None, 3, 3, 64)          0         \n",
      "_________________________________________________________________\n",
      "Flatten-1 (Flatten)          (None, 576)               0         \n",
      "_________________________________________________________________\n",
      "ALL-Dense-1 (Dense)          (None, 1024)              590848    \n",
      "_________________________________________________________________\n",
      "Dropout-3 (Dropout)          (None, 1024)              0         \n",
      "_________________________________________________________________\n",
      "ALL-Dense-2 (Dense)          (None, 2)                 2050      \n",
      "=================================================================\n",
      "Total params: 1,014,210\n",
      "Trainable params: 1,014,210\n",
      "Non-trainable params: 0\n",
      "_________________________________________________________________\n"
     ]
    }
   ],
   "source": [
    "model.summary()"
   ]
  },
  {
   "cell_type": "markdown",
   "metadata": {},
   "source": [
    "## モデルの学習"
   ]
  },
  {
   "cell_type": "code",
   "execution_count": 46,
   "metadata": {},
   "outputs": [],
   "source": [
    "from tensorflow.python.keras.callbacks import TensorBoard"
   ]
  },
  {
   "cell_type": "code",
   "execution_count": 47,
   "metadata": {},
   "outputs": [
    {
     "name": "stdout",
     "output_type": "stream",
     "text": [
      "WARNING:tensorflow:From /anaconda3/envs/tensorflow/lib/python3.6/site-packages/tensorflow/python/keras/_impl/keras/backend.py:3086: calling reduce_sum (from tensorflow.python.ops.math_ops) with keep_dims is deprecated and will be removed in a future version.\n",
      "Instructions for updating:\n",
      "keep_dims is deprecated, use keepdims instead\n",
      "WARNING:tensorflow:From /anaconda3/envs/tensorflow/lib/python3.6/site-packages/tensorflow/python/keras/_impl/keras/backend.py:1557: calling reduce_mean (from tensorflow.python.ops.math_ops) with keep_dims is deprecated and will be removed in a future version.\n",
      "Instructions for updating:\n",
      "keep_dims is deprecated, use keepdims instead\n",
      "Train on 237 samples, validate on 60 samples\n",
      "Epoch 1/80\n",
      "237/237 [==============================]237/237 [==============================] - 6s 24ms/step - loss: 1.0715 - acc: 0.4473 - val_loss: 1.2494 - val_acc: 0.0000e+00\n",
      "\n",
      "Epoch 2/80\n",
      "237/237 [==============================]237/237 [==============================] - 5s 23ms/step - loss: 1.0589 - acc: 0.4304 - val_loss: 1.8737 - val_acc: 0.0000e+00\n",
      "\n",
      "Epoch 3/80\n",
      "237/237 [==============================]237/237 [==============================] - 6s 24ms/step - loss: 1.0321 - acc: 0.4346 - val_loss: 1.4358 - val_acc: 0.0000e+00\n",
      "\n",
      "Epoch 4/80\n",
      "237/237 [==============================]237/237 [==============================] - 5s 22ms/step - loss: 1.0368 - acc: 0.4177 - val_loss: 1.4651 - val_acc: 0.0000e+00\n",
      "\n",
      "Epoch 5/80\n",
      "237/237 [==============================]237/237 [==============================] - 5s 23ms/step - loss: 1.0286 - acc: 0.4177 - val_loss: 1.4613 - val_acc: 0.0000e+00\n",
      "\n",
      "Epoch 6/80\n",
      "237/237 [==============================]237/237 [==============================] - 5s 21ms/step - loss: 1.0366 - acc: 0.3966 - val_loss: 1.3956 - val_acc: 0.0000e+00\n",
      "\n",
      "Epoch 7/80\n",
      "237/237 [==============================]237/237 [==============================] - 6s 26ms/step - loss: 1.0386 - acc: 0.4093 - val_loss: 2.1649 - val_acc: 0.0000e+00\n",
      "\n",
      "Epoch 8/80\n",
      "237/237 [==============================]237/237 [==============================] - 6s 27ms/step - loss: 1.0283 - acc: 0.4515 - val_loss: 1.6381 - val_acc: 0.0000e+00\n",
      "\n",
      "Epoch 9/80\n",
      "237/237 [==============================]237/237 [==============================] - 6s 27ms/step - loss: 0.9997 - acc: 0.4515 - val_loss: 1.7308 - val_acc: 0.0000e+00\n",
      "\n",
      "Epoch 10/80\n",
      "237/237 [==============================]237/237 [==============================] - 5s 22ms/step - loss: 0.9973 - acc: 0.4473 - val_loss: 1.5898 - val_acc: 0.0000e+00\n",
      "\n",
      "Epoch 11/80\n",
      "237/237 [==============================]237/237 [==============================] - 6s 24ms/step - loss: 0.9125 - acc: 0.4768 - val_loss: 3.2693 - val_acc: 0.0667\n",
      "\n",
      "Epoch 12/80\n",
      "237/237 [==============================]237/237 [==============================] - 6s 24ms/step - loss: 0.8966 - acc: 0.5443 - val_loss: 1.6930 - val_acc: 0.1500\n",
      "\n",
      "Epoch 13/80\n",
      "237/237 [==============================]237/237 [==============================] - 5s 23ms/step - loss: 0.8787 - acc: 0.4810 - val_loss: 1.6514 - val_acc: 0.3000\n",
      "\n",
      "Epoch 14/80\n",
      "237/237 [==============================]237/237 [==============================] - 6s 24ms/step - loss: 0.9320 - acc: 0.4895 - val_loss: 1.6467 - val_acc: 0.3333\n",
      "\n",
      "Epoch 15/80\n",
      "237/237 [==============================]237/237 [==============================] - 6s 24ms/step - loss: 0.8290 - acc: 0.5992 - val_loss: 1.2885 - val_acc: 0.4833\n",
      "\n",
      "Epoch 16/80\n",
      "237/237 [==============================]237/237 [==============================] - 5s 22ms/step - loss: 0.7035 - acc: 0.5738 - val_loss: 2.9775 - val_acc: 0.3500\n",
      "\n",
      "Epoch 17/80\n",
      "237/237 [==============================]237/237 [==============================] - 5s 22ms/step - loss: 0.7523 - acc: 0.6456 - val_loss: 1.9970 - val_acc: 0.3667\n",
      "\n",
      "Epoch 18/80\n",
      "237/237 [==============================]237/237 [==============================] - 5s 23ms/step - loss: 0.7055 - acc: 0.6118 - val_loss: 0.8224 - val_acc: 0.8000\n",
      "\n",
      "Epoch 19/80\n",
      "237/237 [==============================]237/237 [==============================] - 5s 22ms/step - loss: 0.7212 - acc: 0.5738 - val_loss: 0.5834 - val_acc: 0.8500\n",
      "\n",
      "Epoch 20/80\n",
      "237/237 [==============================]237/237 [==============================] - 5s 22ms/step - loss: 0.6840 - acc: 0.5992 - val_loss: 1.6682 - val_acc: 0.5000\n",
      "\n",
      "Epoch 21/80\n",
      "237/237 [==============================]237/237 [==============================] - 5s 22ms/step - loss: 0.6323 - acc: 0.6287 - val_loss: 0.9142 - val_acc: 0.7833\n",
      "\n",
      "Epoch 22/80\n",
      "237/237 [==============================]237/237 [==============================] - 5s 23ms/step - loss: 0.6070 - acc: 0.6582 - val_loss: 1.4836 - val_acc: 0.4833\n",
      "\n",
      "Epoch 23/80\n",
      "237/237 [==============================]237/237 [==============================] - 5s 22ms/step - loss: 0.6018 - acc: 0.6582 - val_loss: 0.7140 - val_acc: 0.8333\n",
      "\n",
      "Epoch 24/80\n",
      "237/237 [==============================]237/237 [==============================] - 5s 23ms/step - loss: 0.6199 - acc: 0.6835 - val_loss: 0.5115 - val_acc: 0.9000\n",
      "\n",
      "Epoch 25/80\n",
      "237/237 [==============================]237/237 [==============================] - 5s 22ms/step - loss: 0.6101 - acc: 0.6920 - val_loss: 1.0960 - val_acc: 0.7500\n",
      "\n",
      "Epoch 26/80\n",
      "237/237 [==============================]237/237 [==============================] - 5s 21ms/step - loss: 0.5856 - acc: 0.6962 - val_loss: 1.9768 - val_acc: 0.4167\n",
      "\n",
      "Epoch 27/80\n",
      "237/237 [==============================]237/237 [==============================] - 5s 22ms/step - loss: 0.5264 - acc: 0.7637 - val_loss: 0.7313 - val_acc: 0.8500\n",
      "\n",
      "Epoch 28/80\n",
      "237/237 [==============================]237/237 [==============================] - 5s 23ms/step - loss: 0.5619 - acc: 0.6962 - val_loss: 1.3550 - val_acc: 0.7333\n",
      "\n",
      "Epoch 29/80\n",
      "237/237 [==============================]237/237 [==============================] - 5s 22ms/step - loss: 0.5082 - acc: 0.7257 - val_loss: 1.3282 - val_acc: 0.6833\n",
      "\n",
      "Epoch 30/80\n",
      "237/237 [==============================]237/237 [==============================] - 6s 24ms/step - loss: 0.4263 - acc: 0.8101 - val_loss: 1.5915 - val_acc: 0.6833\n",
      "\n",
      "Epoch 31/80\n",
      "237/237 [==============================]237/237 [==============================] - 6s 25ms/step - loss: 0.3847 - acc: 0.8312 - val_loss: 1.3876 - val_acc: 0.7333\n",
      "\n",
      "Epoch 32/80\n",
      "237/237 [==============================]237/237 [==============================] - 6s 24ms/step - loss: 0.3566 - acc: 0.8481 - val_loss: 1.9987 - val_acc: 0.6833\n",
      "\n",
      "Epoch 33/80\n",
      "237/237 [==============================]237/237 [==============================] - 6s 24ms/step - loss: 0.3776 - acc: 0.8228 - val_loss: 1.3764 - val_acc: 0.7333\n",
      "\n",
      "Epoch 34/80\n",
      "237/237 [==============================]237/237 [==============================] - 6s 27ms/step - loss: 0.3082 - acc: 0.8650 - val_loss: 1.4476 - val_acc: 0.7167\n",
      "\n",
      "Epoch 35/80\n",
      "237/237 [==============================]237/237 [==============================] - 6s 27ms/step - loss: 0.2628 - acc: 0.8945 - val_loss: 2.4318 - val_acc: 0.6333\n",
      "\n",
      "Epoch 36/80\n",
      "237/237 [==============================]237/237 [==============================] - 5s 22ms/step - loss: 0.2302 - acc: 0.9325 - val_loss: 2.4120 - val_acc: 0.6000\n",
      "\n",
      "Epoch 37/80\n",
      "237/237 [==============================]237/237 [==============================] - 5s 22ms/step - loss: 0.2265 - acc: 0.9114 - val_loss: 5.9086 - val_acc: 0.2000\n",
      "\n",
      "Epoch 38/80\n",
      "237/237 [==============================]237/237 [==============================] - 5s 22ms/step - loss: 0.4896 - acc: 0.8101 - val_loss: 1.9246 - val_acc: 0.6500\n",
      "\n",
      "Epoch 39/80\n",
      "237/237 [==============================]237/237 [==============================] - 5s 23ms/step - loss: 0.2724 - acc: 0.8734 - val_loss: 1.4989 - val_acc: 0.7167\n",
      "\n",
      "Epoch 40/80\n",
      "237/237 [==============================]237/237 [==============================] - 5s 22ms/step - loss: 0.2175 - acc: 0.9114 - val_loss: 2.3484 - val_acc: 0.6333\n",
      "\n",
      "Epoch 41/80\n",
      "237/237 [==============================]237/237 [==============================] - 5s 23ms/step - loss: 0.2621 - acc: 0.8945 - val_loss: 2.5266 - val_acc: 0.6000\n",
      "\n",
      "Epoch 42/80\n",
      "237/237 [==============================]237/237 [==============================] - 5s 22ms/step - loss: 0.3708 - acc: 0.8650 - val_loss: 2.4324 - val_acc: 0.4833\n",
      "\n",
      "Epoch 43/80\n"
     ]
    },
    {
     "name": "stdout",
     "output_type": "stream",
     "text": [
      "237/237 [==============================]237/237 [==============================] - 6s 25ms/step - loss: 0.2250 - acc: 0.9114 - val_loss: 1.7967 - val_acc: 0.7333\n",
      "\n",
      "Epoch 44/80\n",
      "237/237 [==============================]237/237 [==============================] - 6s 24ms/step - loss: 0.2024 - acc: 0.9241 - val_loss: 1.4461 - val_acc: 0.7667\n",
      "\n",
      "Epoch 45/80\n",
      "237/237 [==============================]237/237 [==============================] - 5s 22ms/step - loss: 0.1542 - acc: 0.9325 - val_loss: 2.2328 - val_acc: 0.6000\n",
      "\n",
      "Epoch 46/80\n",
      "237/237 [==============================]237/237 [==============================] - 5s 22ms/step - loss: 0.0915 - acc: 0.9789 - val_loss: 1.8158 - val_acc: 0.7500\n",
      "\n",
      "Epoch 47/80\n",
      "237/237 [==============================]237/237 [==============================] - 5s 22ms/step - loss: 0.0586 - acc: 0.9873 - val_loss: 2.6879 - val_acc: 0.6167\n",
      "\n",
      "Epoch 48/80\n",
      "237/237 [==============================]237/237 [==============================] - 5s 23ms/step - loss: 0.0961 - acc: 0.9705 - val_loss: 1.6130 - val_acc: 0.8333\n",
      "\n",
      "Epoch 49/80\n",
      "237/237 [==============================]237/237 [==============================] - 5s 22ms/step - loss: 0.0859 - acc: 0.9789 - val_loss: 2.1652 - val_acc: 0.6833\n",
      "\n",
      "Epoch 50/80\n",
      "237/237 [==============================]237/237 [==============================] - 5s 22ms/step - loss: 0.0537 - acc: 0.9831 - val_loss: 2.2048 - val_acc: 0.7333\n",
      "\n",
      "Epoch 51/80\n",
      "237/237 [==============================]237/237 [==============================] - 5s 22ms/step - loss: 0.0672 - acc: 0.9789 - val_loss: 1.8802 - val_acc: 0.8333\n",
      "\n",
      "Epoch 52/80\n",
      "237/237 [==============================]237/237 [==============================] - 5s 23ms/step - loss: 0.0955 - acc: 0.9705 - val_loss: 2.6325 - val_acc: 0.6500\n",
      "\n",
      "Epoch 53/80\n",
      "237/237 [==============================]237/237 [==============================] - 5s 22ms/step - loss: 0.0904 - acc: 0.9620 - val_loss: 2.2945 - val_acc: 0.6667\n",
      "\n",
      "Epoch 54/80\n",
      "237/237 [==============================]237/237 [==============================] - 5s 23ms/step - loss: 0.2889 - acc: 0.8987 - val_loss: 1.8943 - val_acc: 0.6833\n",
      "\n",
      "Epoch 55/80\n",
      "237/237 [==============================]237/237 [==============================] - 5s 22ms/step - loss: 0.2411 - acc: 0.8987 - val_loss: 3.5199 - val_acc: 0.5333\n",
      "\n",
      "Epoch 56/80\n",
      "237/237 [==============================]237/237 [==============================] - 5s 22ms/step - loss: 0.2373 - acc: 0.8819 - val_loss: 2.0458 - val_acc: 0.6167\n",
      "\n",
      "Epoch 57/80\n",
      "237/237 [==============================]237/237 [==============================] - 5s 22ms/step - loss: 0.1534 - acc: 0.9662 - val_loss: 1.7687 - val_acc: 0.7000\n",
      "\n",
      "Epoch 58/80\n",
      "237/237 [==============================]237/237 [==============================] - 5s 23ms/step - loss: 0.0992 - acc: 0.9705 - val_loss: 1.8670 - val_acc: 0.6833\n",
      "\n",
      "Epoch 59/80\n",
      "237/237 [==============================]237/237 [==============================] - 5s 22ms/step - loss: 0.0566 - acc: 0.9958 - val_loss: 1.9584 - val_acc: 0.7167\n",
      "\n",
      "Epoch 60/80\n",
      "237/237 [==============================]237/237 [==============================] - 5s 23ms/step - loss: 0.0516 - acc: 0.9831 - val_loss: 2.1648 - val_acc: 0.6833\n",
      "\n",
      "Epoch 61/80\n",
      "237/237 [==============================]237/237 [==============================] - 5s 22ms/step - loss: 0.0361 - acc: 0.9916 - val_loss: 2.4784 - val_acc: 0.6500\n",
      "\n",
      "Epoch 62/80\n",
      "237/237 [==============================]237/237 [==============================] - 5s 22ms/step - loss: 0.0348 - acc: 0.9916 - val_loss: 2.4066 - val_acc: 0.7000\n",
      "\n",
      "Epoch 63/80\n",
      "237/237 [==============================]237/237 [==============================] - 5s 22ms/step - loss: 0.0330 - acc: 0.9916 - val_loss: 2.2779 - val_acc: 0.7000\n",
      "\n",
      "Epoch 64/80\n",
      "237/237 [==============================]237/237 [==============================] - 6s 24ms/step - loss: 0.0243 - acc: 0.9916 - val_loss: 2.1108 - val_acc: 0.7667\n",
      "\n",
      "Epoch 65/80\n",
      "237/237 [==============================]237/237 [==============================] - 6s 23ms/step - loss: 0.0269 - acc: 0.9916 - val_loss: 2.1855 - val_acc: 0.7667\n",
      "\n",
      "Epoch 66/80\n",
      "237/237 [==============================]237/237 [==============================] - 6s 24ms/step - loss: 0.0253 - acc: 0.9831 - val_loss: 3.0544 - val_acc: 0.6000\n",
      "\n",
      "Epoch 67/80\n",
      "237/237 [==============================]237/237 [==============================] - 5s 23ms/step - loss: 0.0504 - acc: 0.9789 - val_loss: 1.5659 - val_acc: 0.8500\n",
      "\n",
      "Epoch 68/80\n",
      "237/237 [==============================]237/237 [==============================] - 7s 28ms/step - loss: 0.0215 - acc: 0.9873 - val_loss: 3.4083 - val_acc: 0.5500\n",
      "\n",
      "Epoch 69/80\n",
      "237/237 [==============================]237/237 [==============================] - 7s 27ms/step - loss: 0.0575 - acc: 0.9873 - val_loss: 1.7647 - val_acc: 0.8167\n",
      "\n",
      "Epoch 70/80\n",
      "237/237 [==============================]237/237 [==============================] - 6s 27ms/step - loss: 0.0383 - acc: 0.9873 - val_loss: 2.8773 - val_acc: 0.6167\n",
      "\n",
      "Epoch 71/80\n",
      "237/237 [==============================]237/237 [==============================] - 6s 27ms/step - loss: 0.0463 - acc: 0.9747 - val_loss: 2.5732 - val_acc: 0.6667\n",
      "\n",
      "Epoch 72/80\n",
      "237/237 [==============================]237/237 [==============================] - 7s 28ms/step - loss: 0.0327 - acc: 0.9747 - val_loss: 2.9197 - val_acc: 0.6500\n",
      "\n",
      "Epoch 73/80\n",
      "237/237 [==============================]237/237 [==============================] - 6s 26ms/step - loss: 0.0114 - acc: 0.9916 - val_loss: 3.1823 - val_acc: 0.5833\n",
      "\n",
      "Epoch 74/80\n",
      "237/237 [==============================]237/237 [==============================] - 6s 23ms/step - loss: 0.0278 - acc: 0.9873 - val_loss: 2.9577 - val_acc: 0.7000\n",
      "\n",
      "Epoch 75/80\n",
      "237/237 [==============================]237/237 [==============================] - 5s 23ms/step - loss: 0.0204 - acc: 0.9916 - val_loss: 2.9334 - val_acc: 0.6500\n",
      "\n",
      "Epoch 76/80\n",
      "237/237 [==============================]237/237 [==============================] - 6s 24ms/step - loss: 0.0319 - acc: 0.9873 - val_loss: 3.3248 - val_acc: 0.6000\n",
      "\n",
      "Epoch 77/80\n",
      "237/237 [==============================]237/237 [==============================] - 5s 22ms/step - loss: 0.0328 - acc: 0.9873 - val_loss: 2.5506 - val_acc: 0.6667\n",
      "\n",
      "Epoch 78/80\n",
      "237/237 [==============================]237/237 [==============================] - 6s 27ms/step - loss: 0.0963 - acc: 0.9789 - val_loss: 2.1133 - val_acc: 0.7833\n",
      "\n",
      "Epoch 79/80\n",
      "237/237 [==============================]237/237 [==============================] - 5s 23ms/step - loss: 0.0964 - acc: 0.9747 - val_loss: 3.5450 - val_acc: 0.5500\n",
      "\n",
      "Epoch 80/80\n",
      "237/237 [==============================]237/237 [==============================] - 5s 23ms/step - loss: 0.0383 - acc: 0.9873 - val_loss: 2.0470 - val_acc: 0.7500\n",
      "\n",
      "Test loss: 0.4248423847230308\n",
      "Test accuracy: 0.9461279461279462\n"
     ]
    }
   ],
   "source": [
    "model.compile(\n",
    "    optimizer = 'adam',\n",
    "    loss = 'categorical_crossentropy',\n",
    "    metrics = ['accuracy']\n",
    ")\n",
    "\n",
    "batch_size = 32\n",
    "epochs = 80\n",
    "\n",
    "tsb = TensorBoard(\n",
    "        log_dir = './logs_FishNary-3',\n",
    "        batch_size=batch_size,\n",
    "        histogram_freq=1,\n",
    "        write_graph=True,\n",
    "        write_grads=True,\n",
    "        write_images=True\n",
    "        )\n",
    "\n",
    "history_model1 = model.fit(\n",
    "                                    data_train,\n",
    "                                    label_train,\n",
    "                                    batch_size = batch_size,\n",
    "                                    epochs = epochs,\n",
    "                                    validation_split = 0.2,\n",
    "                                    callbacks = [tsb]\n",
    "                                )\n",
    "\n",
    "score = model.evaluate(data_train, label_train, verbose=0)\n",
    "print('Test loss:', score[0])\n",
    "print('Test accuracy:', score[1])\n"
   ]
  },
  {
   "cell_type": "markdown",
   "metadata": {},
   "source": [
    "## 学習したパラメーターモデルのファイルへの保存"
   ]
  },
  {
   "cell_type": "code",
   "execution_count": 50,
   "metadata": {},
   "outputs": [],
   "source": [
    "json_string = model.to_json()\n",
    "open('./model-out/FishNary-3_model_setting.json', 'w').write(json_string)\n",
    "\n",
    "model.save(\"./model-out/FishNary-3_model.h5\")\n",
    "model.save_weights('./model-out/FishNary-3_model_weights.h5')"
   ]
  },
  {
   "cell_type": "markdown",
   "metadata": {},
   "source": [
    "## 使ったモデルの図式化"
   ]
  },
  {
   "cell_type": "code",
   "execution_count": 51,
   "metadata": {},
   "outputs": [],
   "source": [
    "from keras.utils import plot_model\n",
    "plot_model(model, to_file=\"./model-out/FishNary-3_model_flow.png\", show_shapes=True)"
   ]
  },
  {
   "cell_type": "code",
   "execution_count": null,
   "metadata": {},
   "outputs": [],
   "source": []
  },
  {
   "cell_type": "code",
   "execution_count": null,
   "metadata": {},
   "outputs": [],
   "source": []
  },
  {
   "cell_type": "code",
   "execution_count": null,
   "metadata": {},
   "outputs": [],
   "source": []
  },
  {
   "cell_type": "code",
   "execution_count": null,
   "metadata": {},
   "outputs": [],
   "source": []
  },
  {
   "cell_type": "code",
   "execution_count": null,
   "metadata": {},
   "outputs": [],
   "source": []
  }
 ],
 "metadata": {
  "kernelspec": {
   "display_name": "Python 3",
   "language": "python",
   "name": "python3"
  },
  "language_info": {
   "codemirror_mode": {
    "name": "ipython",
    "version": 3
   },
   "file_extension": ".py",
   "mimetype": "text/x-python",
   "name": "python",
   "nbconvert_exporter": "python",
   "pygments_lexer": "ipython3",
   "version": "3.6.7"
  }
 },
 "nbformat": 4,
 "nbformat_minor": 2
}
