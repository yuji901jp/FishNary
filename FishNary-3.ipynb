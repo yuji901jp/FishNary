{
 "cells": [
  {
   "cell_type": "code",
   "execution_count": 1,
   "metadata": {},
   "outputs": [],
   "source": [
    "from tensorflow.python.keras.preprocessing.image import load_img\n",
    "from tensorflow.python.keras.preprocessing.image import img_to_array\n",
    "import os\n",
    "import glob\n",
    "import numpy as np"
   ]
  },
  {
   "cell_type": "code",
   "execution_count": 2,
   "metadata": {},
   "outputs": [],
   "source": [
    "# 配列の初期化\n",
    "data_train = []\n",
    "label_train = []\n",
    "data_test = []\n",
    "label_test = []\n",
    "\n",
    "# 学習に使う画像の解像度を指定\n",
    "resolution_x = 100\n",
    "resolution_y = 100\n",
    "\n",
    "# 分類されるべき魚種数\n",
    "fish_category = 3"
   ]
  },
  {
   "cell_type": "markdown",
   "metadata": {},
   "source": [
    "# データの読み込み "
   ]
  },
  {
   "cell_type": "markdown",
   "metadata": {},
   "source": [
    "## ブリ: カテゴリ0"
   ]
  },
  {
   "cell_type": "code",
   "execution_count": 3,
   "metadata": {},
   "outputs": [
    {
     "name": "stdout",
     "output_type": "stream",
     "text": [
      "File Number for buri :  99\n"
     ]
    }
   ],
   "source": [
    "# 画像群の読み込み(ブリ : カテゴリ0)\n",
    "images_buri = glob.glob(os.path.join(\"./train/buri/\", \"*.jpeg\"))\n",
    "print('File Number for buri : ', len(images_buri))"
   ]
  },
  {
   "cell_type": "code",
   "execution_count": 4,
   "metadata": {},
   "outputs": [],
   "source": [
    "for i in range (len(images_buri)):\n",
    "    img_path = images_buri[i]\n",
    "    img = load_img(img_path,target_size = (resolution_x, resolution_y))\n",
    "    \n",
    "    data_train.append(img_to_array(img)/255.)\n",
    "    label_train.append(0)"
   ]
  },
  {
   "cell_type": "markdown",
   "metadata": {},
   "source": [
    "# ヒラマサ : カテゴリ1"
   ]
  },
  {
   "cell_type": "code",
   "execution_count": 5,
   "metadata": {},
   "outputs": [
    {
     "name": "stdout",
     "output_type": "stream",
     "text": [
      "File Number for hiramasa :  99\n"
     ]
    }
   ],
   "source": [
    "# 画像群の読み込み(ヒラマサ : カテゴリ1)\n",
    "images_hiramasa = glob.glob(os.path.join(\"./train/hiramasa/\", \"*.jpeg\"))\n",
    "print('File Number for hiramasa : ', len(images_hiramasa))"
   ]
  },
  {
   "cell_type": "code",
   "execution_count": 6,
   "metadata": {},
   "outputs": [],
   "source": [
    "for i in range (len(images_hiramasa)):\n",
    "    img_path = images_hiramasa[i]\n",
    "    img = load_img(img_path,target_size = (resolution_x, resolution_y))\n",
    "    \n",
    "    data_train.append(img_to_array(img)/255.)\n",
    "    label_train.append(1)"
   ]
  },
  {
   "cell_type": "markdown",
   "metadata": {},
   "source": [
    "# マダイ : カテゴリ2"
   ]
  },
  {
   "cell_type": "code",
   "execution_count": 7,
   "metadata": {},
   "outputs": [
    {
     "name": "stdout",
     "output_type": "stream",
     "text": [
      "File Number for madai :  99\n"
     ]
    }
   ],
   "source": [
    "# 画像群の読み込み(ヒラマサ : カテゴリ2)\n",
    "images_madai = glob.glob(os.path.join(\"./train/madai/\", \"*.jpeg\"))\n",
    "print('File Number for madai : ', len(images_madai))"
   ]
  },
  {
   "cell_type": "code",
   "execution_count": 8,
   "metadata": {},
   "outputs": [],
   "source": [
    "for i in range (len(images_madai)):\n",
    "    img_path = images_madai[i]\n",
    "    img = load_img(img_path,target_size = (resolution_x, resolution_y))\n",
    "    \n",
    "    data_train.append(img_to_array(img)/255.)\n",
    "    label_train.append(2)"
   ]
  },
  {
   "cell_type": "markdown",
   "metadata": {},
   "source": [
    "## 読み込んだデータの確認"
   ]
  },
  {
   "cell_type": "code",
   "execution_count": 9,
   "metadata": {},
   "outputs": [
    {
     "name": "stdout",
     "output_type": "stream",
     "text": [
      "train datas :  297 label  :  297\n"
     ]
    }
   ],
   "source": [
    "print('train datas : ', len(data_train), 'label  : ', len(label_train))"
   ]
  },
  {
   "cell_type": "code",
   "execution_count": 10,
   "metadata": {},
   "outputs": [
    {
     "name": "stdout",
     "output_type": "stream",
     "text": [
      "data_train.shape :  (297, 100, 100, 3)\n",
      "data_test.shape :  (0,)\n",
      "label_train.shape :  (297,)\n",
      "label_test.shape :  (0,)\n"
     ]
    }
   ],
   "source": [
    "data_train = np.array(data_train)\n",
    "data_test = np.array(data_test)\n",
    "label_train = np.array(label_train)\n",
    "label_test = np.array(label_test)\n",
    "print('data_train.shape : ', data_train.shape)\n",
    "print('data_test.shape : ', data_test.shape)\n",
    "print('label_train.shape : ', label_train.shape)\n",
    "print('label_test.shape : ', label_test.shape)"
   ]
  },
  {
   "cell_type": "code",
   "execution_count": 11,
   "metadata": {},
   "outputs": [],
   "source": [
    "#data_train.tolist()"
   ]
  },
  {
   "cell_type": "code",
   "execution_count": 12,
   "metadata": {},
   "outputs": [],
   "source": [
    "#data_train"
   ]
  },
  {
   "cell_type": "code",
   "execution_count": 13,
   "metadata": {},
   "outputs": [
    {
     "data": {
      "text/plain": [
       "2"
      ]
     },
     "execution_count": 13,
     "metadata": {},
     "output_type": "execute_result"
    }
   ],
   "source": [
    "label_train[240]"
   ]
  },
  {
   "cell_type": "markdown",
   "metadata": {},
   "source": [
    "## データの正規化"
   ]
  },
  {
   "cell_type": "code",
   "execution_count": 14,
   "metadata": {},
   "outputs": [],
   "source": [
    "from tensorflow.python.keras.utils import to_categorical"
   ]
  },
  {
   "cell_type": "code",
   "execution_count": 15,
   "metadata": {},
   "outputs": [],
   "source": [
    "#クラスラベルの1-hotベクトル化\n",
    "label_train = to_categorical(label_train, fish_category)\n",
    "label_test = to_categorical(label_test, fish_category)"
   ]
  },
  {
   "cell_type": "code",
   "execution_count": 16,
   "metadata": {},
   "outputs": [
    {
     "data": {
      "text/plain": [
       "(297, 3)"
      ]
     },
     "execution_count": 16,
     "metadata": {},
     "output_type": "execute_result"
    }
   ],
   "source": [
    "label_train.shape"
   ]
  },
  {
   "cell_type": "code",
   "execution_count": 17,
   "metadata": {},
   "outputs": [
    {
     "data": {
      "text/plain": [
       "297"
      ]
     },
     "execution_count": 17,
     "metadata": {},
     "output_type": "execute_result"
    }
   ],
   "source": [
    "len(label_train)"
   ]
  },
  {
   "cell_type": "code",
   "execution_count": 18,
   "metadata": {},
   "outputs": [
    {
     "data": {
      "text/plain": [
       "0"
      ]
     },
     "execution_count": 18,
     "metadata": {},
     "output_type": "execute_result"
    }
   ],
   "source": [
    "len(label_test)"
   ]
  },
  {
   "cell_type": "markdown",
   "metadata": {},
   "source": [
    "## モデルの構築"
   ]
  },
  {
   "cell_type": "markdown",
   "metadata": {},
   "source": [
    "### 畳み込み層の追加"
   ]
  },
  {
   "cell_type": "code",
   "execution_count": null,
   "metadata": {},
   "outputs": [],
   "source": [
    "from tensorflow.python.keras.models import Sequential\n",
    "model = Sequential()"
   ]
  },
  {
   "cell_type": "code",
   "execution_count": null,
   "metadata": {},
   "outputs": [],
   "source": [
    "from tensorflow.python.keras.layers import Conv2D\n",
    "\n",
    "model.add(\n",
    "    Conv2D(\n",
    "        filters = 64,\n",
    "        input_shape = (resolution_x, resolution_y, 3),\n",
    "        kernel_size = (9, 9),\n",
    "        strides = (3, 3),\n",
    "        padding = 'same',\n",
    "        activation = 'relu',\n",
    "        name = 'CNN-Conv2D-1'\n",
    "        )\n",
    ")\n",
    "\n",
    "model.add(\n",
    "    Conv2D(\n",
    "        filters = 64,\n",
    "        kernel_size = (9, 9),\n",
    "        strides = (3, 3),\n",
    "        padding = 'same',\n",
    "        activation = 'relu',\n",
    "        name = 'CNN-Conv2D-2'\n",
    "    )\n",
    ")"
   ]
  },
  {
   "cell_type": "markdown",
   "metadata": {},
   "source": [
    "## プーリング層の追加"
   ]
  },
  {
   "cell_type": "code",
   "execution_count": null,
   "metadata": {},
   "outputs": [],
   "source": [
    "from tensorflow.python.keras.layers import MaxPooling2D\n",
    "\n",
    "model.add(\n",
    "    MaxPooling2D(\n",
    "        pool_size = (2,2),\n",
    "        name = 'Pooling-MaxPooling2D-1'\n",
    "    )\n",
    ")"
   ]
  },
  {
   "cell_type": "markdown",
   "metadata": {},
   "source": [
    "## ドロップアウト層の追加"
   ]
  },
  {
   "cell_type": "code",
   "execution_count": null,
   "metadata": {},
   "outputs": [],
   "source": [
    "from tensorflow.python.keras.layers import Dropout\n",
    "\n",
    "model.add(\n",
    "    Dropout(\n",
    "    0.25,\n",
    "    name = 'Dropout-1'\n",
    "    )\n",
    ")"
   ]
  },
  {
   "cell_type": "markdown",
   "metadata": {},
   "source": [
    "## 畳み込み層、プーリング層の追加"
   ]
  },
  {
   "cell_type": "code",
   "execution_count": null,
   "metadata": {},
   "outputs": [],
   "source": [
    "model.add(\n",
    "    Conv2D(\n",
    "        filters = 64,\n",
    "        kernel_size = (3, 3),\n",
    "        strides = (1, 1),\n",
    "        padding = 'same',\n",
    "        activation = 'relu',\n",
    "        name = 'CNN-Conv2D-3'\n",
    "    )\n",
    ")\n",
    "\n",
    "model.add(\n",
    "    Conv2D(\n",
    "        filters = 64,\n",
    "        kernel_size = (3, 3),\n",
    "        strides = (1, 1),\n",
    "        padding = 'same',\n",
    "        activation = 'relu',\n",
    "        name = 'CNN-Conv2D-4'\n",
    "    )\n",
    ")\n",
    "\n",
    "model.add(\n",
    "    MaxPooling2D(\n",
    "        pool_size = (2,2),\n",
    "        name = 'Pooling-MaxPooling2D-2'\n",
    "    )\n",
    ")\n",
    "\n",
    "model.add(\n",
    "    Dropout(\n",
    "    0.25,\n",
    "    name = 'Dropout-2'\n",
    "    )\n",
    ")"
   ]
  },
  {
   "cell_type": "code",
   "execution_count": null,
   "metadata": {},
   "outputs": [
    {
     "data": {
      "text/plain": [
       "(None, 3, 3, 64)"
      ]
     },
     "execution_count": 24,
     "metadata": {},
     "output_type": "execute_result"
    }
   ],
   "source": [
    "model.output_shape"
   ]
  },
  {
   "cell_type": "markdown",
   "metadata": {},
   "source": [
    "## Flattenレイヤーの追加"
   ]
  },
  {
   "cell_type": "code",
   "execution_count": null,
   "metadata": {},
   "outputs": [],
   "source": [
    "from tensorflow.python.keras.layers import Flatten\n",
    "\n",
    "model.add(\n",
    "    Flatten(\n",
    "        name = 'Flatten-1'\n",
    "    )\n",
    ")"
   ]
  },
  {
   "cell_type": "code",
   "execution_count": null,
   "metadata": {},
   "outputs": [
    {
     "data": {
      "text/plain": [
       "(None, 576)"
      ]
     },
     "execution_count": 26,
     "metadata": {},
     "output_type": "execute_result"
    }
   ],
   "source": [
    "model.output_shape"
   ]
  },
  {
   "cell_type": "markdown",
   "metadata": {},
   "source": [
    "## 全結合層の追加"
   ]
  },
  {
   "cell_type": "code",
   "execution_count": null,
   "metadata": {},
   "outputs": [],
   "source": [
    "from tensorflow.python.keras.layers import Dense"
   ]
  },
  {
   "cell_type": "code",
   "execution_count": null,
   "metadata": {},
   "outputs": [],
   "source": [
    "model.add(\n",
    "    Dense(\n",
    "        units = 1024,\n",
    "        activation = 'relu',\n",
    "        name = 'ALL-Dense-1'\n",
    "    )\n",
    ")\n",
    "\n",
    "model.add(\n",
    "    Dropout(\n",
    "    0.25,\n",
    "    name = 'Dropout-3'\n",
    "    )\n",
    ")\n",
    "\n",
    "model.add(\n",
    "    Dense(\n",
    "        units = 3,\n",
    "        activation = 'softmax',\n",
    "        name = 'ALL-Dense-2'\n",
    "    )\n",
    ")"
   ]
  },
  {
   "cell_type": "code",
   "execution_count": null,
   "metadata": {},
   "outputs": [
    {
     "name": "stdout",
     "output_type": "stream",
     "text": [
      "_________________________________________________________________\n",
      "Layer (type)                 Output Shape              Param #   \n",
      "=================================================================\n",
      "CNN-Conv2D-1 (Conv2D)        (None, 34, 34, 64)        15616     \n",
      "_________________________________________________________________\n",
      "CNN-Conv2D-2 (Conv2D)        (None, 12, 12, 64)        331840    \n",
      "_________________________________________________________________\n",
      "Pooling-MaxPooling2D-1 (MaxP (None, 6, 6, 64)          0         \n",
      "_________________________________________________________________\n",
      "Dropout-1 (Dropout)          (None, 6, 6, 64)          0         \n",
      "_________________________________________________________________\n",
      "CNN-Conv2D-3 (Conv2D)        (None, 6, 6, 64)          36928     \n",
      "_________________________________________________________________\n",
      "CNN-Conv2D-4 (Conv2D)        (None, 6, 6, 64)          36928     \n",
      "_________________________________________________________________\n",
      "Pooling-MaxPooling2D-2 (MaxP (None, 3, 3, 64)          0         \n",
      "_________________________________________________________________\n",
      "Dropout-2 (Dropout)          (None, 3, 3, 64)          0         \n",
      "_________________________________________________________________\n",
      "Flatten-1 (Flatten)          (None, 576)               0         \n",
      "_________________________________________________________________\n",
      "ALL-Dense-1 (Dense)          (None, 1024)              590848    \n",
      "_________________________________________________________________\n",
      "Dropout-3 (Dropout)          (None, 1024)              0         \n",
      "_________________________________________________________________\n",
      "ALL-Dense-2 (Dense)          (None, 3)                 3075      \n",
      "=================================================================\n",
      "Total params: 1,015,235\n",
      "Trainable params: 1,015,235\n",
      "Non-trainable params: 0\n",
      "_________________________________________________________________\n"
     ]
    }
   ],
   "source": [
    "model.summary()"
   ]
  },
  {
   "cell_type": "markdown",
   "metadata": {},
   "source": [
    "## モデルの学習"
   ]
  },
  {
   "cell_type": "code",
   "execution_count": null,
   "metadata": {},
   "outputs": [],
   "source": [
    "from tensorflow.python.keras.callbacks import TensorBoard"
   ]
  },
  {
   "cell_type": "code",
   "execution_count": null,
   "metadata": {},
   "outputs": [
    {
     "name": "stdout",
     "output_type": "stream",
     "text": [
      "WARNING:tensorflow:From /anaconda3/envs/tensorflow/lib/python3.6/site-packages/tensorflow/python/keras/_impl/keras/backend.py:3086: calling reduce_sum (from tensorflow.python.ops.math_ops) with keep_dims is deprecated and will be removed in a future version.\n",
      "Instructions for updating:\n",
      "keep_dims is deprecated, use keepdims instead\n",
      "WARNING:tensorflow:From /anaconda3/envs/tensorflow/lib/python3.6/site-packages/tensorflow/python/keras/_impl/keras/backend.py:1557: calling reduce_mean (from tensorflow.python.ops.math_ops) with keep_dims is deprecated and will be removed in a future version.\n",
      "Instructions for updating:\n",
      "keep_dims is deprecated, use keepdims instead\n",
      "Train on 237 samples, validate on 60 samples\n",
      "Epoch 1/80\n",
      "237/237 [==============================]237/237 [==============================] - 9s 39ms/step - loss: 1.0908 - acc: 0.4346 - val_loss: 1.4833 - val_acc: 0.0000e+00\n",
      "\n",
      "Epoch 2/80\n",
      "237/237 [==============================]237/237 [==============================] - 9s 37ms/step - loss: 1.0671 - acc: 0.4430 - val_loss: 1.3200 - val_acc: 0.0000e+00\n",
      "\n",
      "Epoch 3/80\n",
      "237/237 [==============================]237/237 [==============================] - 7s 31ms/step - loss: 1.0544 - acc: 0.4177 - val_loss: 1.4093 - val_acc: 0.0000e+00\n",
      "\n",
      "Epoch 4/80\n",
      "237/237 [==============================]237/237 [==============================] - 8s 34ms/step - loss: 1.0441 - acc: 0.4557 - val_loss: 1.4747 - val_acc: 0.0000e+00\n",
      "\n",
      "Epoch 5/80\n",
      "237/237 [==============================]237/237 [==============================] - 9s 37ms/step - loss: 1.0448 - acc: 0.4135 - val_loss: 1.5835 - val_acc: 0.0000e+00\n",
      "\n",
      "Epoch 6/80\n",
      "237/237 [==============================]237/237 [==============================] - 8s 32ms/step - loss: 1.0329 - acc: 0.4262 - val_loss: 1.5632 - val_acc: 0.0000e+00\n",
      "\n",
      "Epoch 7/80\n",
      "237/237 [==============================]237/237 [==============================] - 8s 35ms/step - loss: 1.0409 - acc: 0.3924 - val_loss: 1.4083 - val_acc: 0.0000e+00\n",
      "\n",
      "Epoch 8/80\n",
      "237/237 [==============================]237/237 [==============================] - 8s 33ms/step - loss: 1.0394 - acc: 0.4135 - val_loss: 1.7742 - val_acc: 0.0000e+00\n",
      "\n",
      "Epoch 9/80\n",
      "237/237 [==============================]237/237 [==============================] - 8s 33ms/step - loss: 1.0122 - acc: 0.4895 - val_loss: 1.7099 - val_acc: 0.0000e+00\n",
      "\n",
      "Epoch 10/80\n",
      "237/237 [==============================]237/237 [==============================] - 8s 34ms/step - loss: 1.0160 - acc: 0.4557 - val_loss: 1.6997 - val_acc: 0.0000e+00\n",
      "\n",
      "Epoch 11/80\n",
      "237/237 [==============================]237/237 [==============================] - 9s 39ms/step - loss: 1.0064 - acc: 0.4346 - val_loss: 1.6841 - val_acc: 0.0000e+00\n",
      "\n",
      "Epoch 12/80\n",
      "237/237 [==============================]237/237 [==============================] - 8s 32ms/step - loss: 0.9914 - acc: 0.4599 - val_loss: 1.7038 - val_acc: 0.0000e+00\n",
      "\n",
      "Epoch 13/80\n",
      "237/237 [==============================]237/237 [==============================] - 7s 31ms/step - loss: 0.9987 - acc: 0.4937 - val_loss: 1.6572 - val_acc: 0.1500\n",
      "\n",
      "Epoch 14/80\n",
      "237/237 [==============================]237/237 [==============================] - 7s 28ms/step - loss: 0.9336 - acc: 0.5105 - val_loss: 1.2777 - val_acc: 0.0667\n",
      "\n",
      "Epoch 15/80\n",
      "237/237 [==============================]237/237 [==============================] - 7s 29ms/step - loss: 0.8981 - acc: 0.5063 - val_loss: 0.7172 - val_acc: 0.7833\n",
      "\n",
      "Epoch 16/80\n",
      "237/237 [==============================]237/237 [==============================] - 8s 32ms/step - loss: 1.0633 - acc: 0.4726 - val_loss: 1.4135 - val_acc: 0.2333\n",
      "\n",
      "Epoch 17/80\n",
      "237/237 [==============================]237/237 [==============================] - 8s 34ms/step - loss: 0.8862 - acc: 0.4937 - val_loss: 1.3919 - val_acc: 0.3333\n",
      "\n",
      "Epoch 18/80\n",
      "237/237 [==============================]237/237 [==============================] - 7s 30ms/step - loss: 0.8565 - acc: 0.5654 - val_loss: 0.8239 - val_acc: 0.6833\n",
      "\n",
      "Epoch 19/80\n",
      "237/237 [==============================]237/237 [==============================] - 7s 31ms/step - loss: 0.7612 - acc: 0.6076 - val_loss: 2.1823 - val_acc: 0.3500\n",
      "\n",
      "Epoch 20/80\n",
      "237/237 [==============================]237/237 [==============================] - 8s 33ms/step - loss: 0.7721 - acc: 0.5485 - val_loss: 0.9000 - val_acc: 0.6333\n",
      "\n",
      "Epoch 21/80\n",
      "237/237 [==============================]237/237 [==============================] - 7s 31ms/step - loss: 0.6923 - acc: 0.6203 - val_loss: 1.0061 - val_acc: 0.6333\n",
      "\n",
      "Epoch 22/80\n",
      "237/237 [==============================]237/237 [==============================] - 7s 29ms/step - loss: 0.7083 - acc: 0.5865 - val_loss: 0.2878 - val_acc: 0.8667\n",
      "\n",
      "Epoch 23/80\n",
      "237/237 [==============================]237/237 [==============================] - 8s 32ms/step - loss: 0.7063 - acc: 0.6160 - val_loss: 1.3964 - val_acc: 0.4667\n",
      "\n",
      "Epoch 24/80\n",
      "237/237 [==============================]237/237 [==============================] - 8s 32ms/step - loss: 0.6912 - acc: 0.6034 - val_loss: 1.9421 - val_acc: 0.4333\n",
      "\n",
      "Epoch 25/80\n",
      "237/237 [==============================]237/237 [==============================] - 8s 33ms/step - loss: 0.6774 - acc: 0.5949 - val_loss: 2.0115 - val_acc: 0.4500\n",
      "\n",
      "Epoch 26/80\n",
      "237/237 [==============================]237/237 [==============================] - 9s 38ms/step - loss: 0.6513 - acc: 0.6582 - val_loss: 0.6971 - val_acc: 0.7000\n",
      "\n",
      "Epoch 27/80\n",
      "237/237 [==============================]237/237 [==============================] - 8s 32ms/step - loss: 0.6087 - acc: 0.6582 - val_loss: 0.8319 - val_acc: 0.7333\n",
      "\n",
      "Epoch 28/80\n",
      "237/237 [==============================]237/237 [==============================] - 9s 37ms/step - loss: 0.6516 - acc: 0.6456 - val_loss: 1.5182 - val_acc: 0.5167\n",
      "\n",
      "Epoch 29/80\n",
      "237/237 [==============================]237/237 [==============================] - 9s 36ms/step - loss: 0.6096 - acc: 0.6371 - val_loss: 1.0418 - val_acc: 0.6500\n",
      "\n",
      "Epoch 30/80\n",
      "237/237 [==============================]237/237 [==============================] - 9s 36ms/step - loss: 0.5412 - acc: 0.7257 - val_loss: 0.9081 - val_acc: 0.7500\n",
      "\n",
      "Epoch 31/80\n",
      "237/237 [==============================]237/237 [==============================] - 7s 32ms/step - loss: 0.5471 - acc: 0.7426 - val_loss: 1.3521 - val_acc: 0.6500\n",
      "\n",
      "Epoch 32/80\n",
      "237/237 [==============================]237/237 [==============================] - 7s 31ms/step - loss: 0.7957 - acc: 0.6245 - val_loss: 1.9039 - val_acc: 0.1333\n",
      "\n",
      "Epoch 33/80\n",
      "237/237 [==============================]237/237 [==============================] - 7s 30ms/step - loss: 0.7598 - acc: 0.6287 - val_loss: 1.7577 - val_acc: 0.2333\n",
      "\n",
      "Epoch 34/80\n",
      "237/237 [==============================]237/237 [==============================] - 7s 28ms/step - loss: 0.7967 - acc: 0.6245 - val_loss: 1.0145 - val_acc: 0.6167\n",
      "\n",
      "Epoch 35/80\n",
      "237/237 [==============================]237/237 [==============================] - 8s 32ms/step - loss: 0.7021 - acc: 0.6456 - val_loss: 0.5341 - val_acc: 0.8000\n",
      "\n",
      "Epoch 36/80\n",
      "237/237 [==============================]237/237 [==============================] - 7s 31ms/step - loss: 0.7383 - acc: 0.6414 - val_loss: 1.3664 - val_acc: 0.4333\n",
      "\n",
      "Epoch 37/80\n",
      "237/237 [==============================]237/237 [==============================] - 7s 27ms/step - loss: 0.6134 - acc: 0.7300 - val_loss: 0.9252 - val_acc: 0.6500\n",
      "\n",
      "Epoch 38/80\n",
      "237/237 [==============================]237/237 [==============================] - 7s 30ms/step - loss: 0.5815 - acc: 0.7173 - val_loss: 1.6388 - val_acc: 0.4833\n",
      "\n",
      "Epoch 39/80\n",
      "237/237 [==============================]237/237 [==============================] - 7s 30ms/step - loss: 0.5750 - acc: 0.7131 - val_loss: 1.1474 - val_acc: 0.6333\n",
      "\n",
      "Epoch 40/80\n",
      "237/237 [==============================]237/237 [==============================] - 7s 30ms/step - loss: 0.5870 - acc: 0.7637 - val_loss: 2.6687 - val_acc: 0.3167\n",
      "\n",
      "Epoch 41/80\n",
      "237/237 [==============================]237/237 [==============================] - 7s 28ms/step - loss: 0.5598 - acc: 0.7173 - val_loss: 0.5135 - val_acc: 0.8500\n",
      "\n",
      "Epoch 42/80\n",
      "237/237 [==============================]237/237 [==============================] - 7s 29ms/step - loss: 0.5378 - acc: 0.7257 - val_loss: 2.3804 - val_acc: 0.3667\n",
      "\n",
      "Epoch 43/80\n"
     ]
    },
    {
     "name": "stdout",
     "output_type": "stream",
     "text": [
      "237/237 [==============================]237/237 [==============================] - 9s 37ms/step - loss: 0.5175 - acc: 0.7595 - val_loss: 1.2759 - val_acc: 0.6667\n",
      "\n",
      "Epoch 44/80\n",
      "237/237 [==============================]237/237 [==============================] - 7s 31ms/step - loss: 0.4207 - acc: 0.7975 - val_loss: 1.2864 - val_acc: 0.7000\n",
      "\n",
      "Epoch 45/80\n",
      "237/237 [==============================]237/237 [==============================] - 7s 32ms/step - loss: 0.3856 - acc: 0.8186 - val_loss: 1.7177 - val_acc: 0.6333\n",
      "\n",
      "Epoch 46/80\n",
      "237/237 [==============================]237/237 [==============================] - 7s 32ms/step - loss: 0.2964 - acc: 0.8734 - val_loss: 1.9246 - val_acc: 0.6500\n",
      "\n",
      "Epoch 47/80\n",
      "237/237 [==============================]237/237 [==============================] - 7s 29ms/step - loss: 0.2001 - acc: 0.9283 - val_loss: 1.1603 - val_acc: 0.7333\n",
      "\n",
      "Epoch 48/80\n",
      "237/237 [==============================]237/237 [==============================] - 6s 26ms/step - loss: 0.2232 - acc: 0.9072 - val_loss: 1.9023 - val_acc: 0.6167\n",
      "\n",
      "Epoch 49/80\n",
      "237/237 [==============================]237/237 [==============================] - 7s 29ms/step - loss: 0.2129 - acc: 0.9030 - val_loss: 1.3398 - val_acc: 0.7167\n",
      "\n",
      "Epoch 50/80\n",
      "237/237 [==============================]237/237 [==============================] - 7s 30ms/step - loss: 0.1628 - acc: 0.9325 - val_loss: 2.8928 - val_acc: 0.4833\n",
      "\n",
      "Epoch 51/80\n",
      "237/237 [==============================]237/237 [==============================] - 8s 36ms/step - loss: 0.1524 - acc: 0.9325 - val_loss: 0.7935 - val_acc: 0.8667\n",
      "\n",
      "Epoch 52/80\n",
      "237/237 [==============================]237/237 [==============================] - 7s 31ms/step - loss: 0.2173 - acc: 0.8987 - val_loss: 1.9482 - val_acc: 0.6500\n",
      "\n",
      "Epoch 53/80\n",
      "237/237 [==============================]237/237 [==============================] - 8s 33ms/step - loss: 0.1372 - acc: 0.9620 - val_loss: 0.7612 - val_acc: 0.8000\n",
      "\n",
      "Epoch 54/80\n",
      "237/237 [==============================]237/237 [==============================] - 7s 30ms/step - loss: 0.2193 - acc: 0.9156 - val_loss: 1.2812 - val_acc: 0.7333\n",
      "\n",
      "Epoch 55/80\n",
      "237/237 [==============================]237/237 [==============================] - 7s 28ms/step - loss: 0.1514 - acc: 0.9325 - val_loss: 2.0942 - val_acc: 0.5000\n",
      "\n",
      "Epoch 56/80\n",
      "237/237 [==============================]237/237 [==============================] - 7s 30ms/step - loss: 0.1506 - acc: 0.9367 - val_loss: 0.4135 - val_acc: 0.9000\n",
      "\n",
      "Epoch 57/80\n",
      "237/237 [==============================]237/237 [==============================] - 8s 32ms/step - loss: 0.2227 - acc: 0.9030 - val_loss: 2.1268 - val_acc: 0.6167\n",
      "\n",
      "Epoch 58/80\n",
      "237/237 [==============================]237/237 [==============================] - 8s 33ms/step - loss: 0.1587 - acc: 0.9367 - val_loss: 2.7873 - val_acc: 0.6500\n",
      "\n",
      "Epoch 59/80\n",
      "237/237 [==============================]237/237 [==============================] - 8s 35ms/step - loss: 0.2601 - acc: 0.9241 - val_loss: 2.7637 - val_acc: 0.5000\n",
      "\n",
      "Epoch 60/80\n",
      "237/237 [==============================]237/237 [==============================] - 9s 37ms/step - loss: 0.2686 - acc: 0.8945 - val_loss: 1.8338 - val_acc: 0.7500\n",
      "\n",
      "Epoch 61/80\n",
      "237/237 [==============================]237/237 [==============================] - 7s 31ms/step - loss: 0.1506 - acc: 0.9451 - val_loss: 1.8033 - val_acc: 0.7167\n",
      "\n",
      "Epoch 62/80\n",
      "237/237 [==============================]237/237 [==============================] - 7s 31ms/step - loss: 0.1166 - acc: 0.9451 - val_loss: 2.2461 - val_acc: 0.6167\n",
      "\n",
      "Epoch 63/80\n",
      "237/237 [==============================]237/237 [==============================] - 8s 34ms/step - loss: 0.0827 - acc: 0.9662 - val_loss: 1.6230 - val_acc: 0.7500\n",
      "\n",
      "Epoch 64/80\n",
      "237/237 [==============================]237/237 [==============================] - 7s 31ms/step - loss: 0.0564 - acc: 0.9747 - val_loss: 3.6263 - val_acc: 0.4500\n",
      "\n",
      "Epoch 65/80\n",
      "237/237 [==============================]237/237 [==============================] - 8s 35ms/step - loss: 0.0561 - acc: 0.9831 - val_loss: 2.0919 - val_acc: 0.7333\n",
      "\n",
      "Epoch 66/80\n",
      "237/237 [==============================]237/237 [==============================] - 7s 30ms/step - loss: 0.0482 - acc: 0.9916 - val_loss: 1.3296 - val_acc: 0.7833\n",
      "\n",
      "Epoch 67/80\n",
      "237/237 [==============================]237/237 [==============================] - 8s 34ms/step - loss: 0.0199 - acc: 0.9958 - val_loss: 2.0527 - val_acc: 0.6833\n",
      "\n",
      "Epoch 68/80\n",
      "237/237 [==============================]237/237 [==============================] - 9s 39ms/step - loss: 0.0445 - acc: 0.9789 - val_loss: 2.0146 - val_acc: 0.6667\n",
      "\n",
      "Epoch 69/80\n",
      "237/237 [==============================]237/237 [==============================] - 7s 31ms/step - loss: 0.0189 - acc: 0.9916 - val_loss: 1.9409 - val_acc: 0.6833\n",
      "\n",
      "Epoch 70/80\n",
      "237/237 [==============================]237/237 [==============================] - 6s 27ms/step - loss: 0.0118 - acc: 0.9958 - val_loss: 2.4274 - val_acc: 0.6500\n",
      "\n",
      "Epoch 71/80\n",
      "237/237 [==============================]237/237 [==============================] - 7s 28ms/step - loss: 0.0581 - acc: 0.9789 - val_loss: 2.0939 - val_acc: 0.6667\n",
      "\n",
      "Epoch 72/80\n",
      "237/237 [==============================]237/237 [==============================] - 6s 27ms/step - loss: 0.0303 - acc: 0.9916 - val_loss: 1.6862 - val_acc: 0.7500\n",
      "\n",
      "Epoch 73/80\n",
      "237/237 [==============================]237/237 [==============================] - 7s 32ms/step - loss: 0.0352 - acc: 0.9873 - val_loss: 2.2755 - val_acc: 0.6667\n",
      "\n",
      "Epoch 74/80\n",
      "237/237 [==============================]237/237 [==============================] - 7s 31ms/step - loss: 0.0318 - acc: 0.9873 - val_loss: 2.2352 - val_acc: 0.6667\n",
      "\n",
      "Epoch 75/80\n",
      "237/237 [==============================]237/237 [==============================] - 7s 28ms/step - loss: 0.0065 - acc: 1.0000 - val_loss: 2.4018 - val_acc: 0.6833\n",
      "\n",
      "Epoch 76/80\n",
      "237/237 [==============================]237/237 [==============================] - 8s 32ms/step - loss: 0.0124 - acc: 0.9958 - val_loss: 2.1976 - val_acc: 0.7333\n",
      "\n",
      "Epoch 77/80\n",
      "237/237 [==============================]237/237 [==============================] - 7s 31ms/step - loss: 0.0107 - acc: 0.9958 - val_loss: 2.2283 - val_acc: 0.7333\n",
      "\n",
      "Epoch 78/80\n",
      "237/237 [==============================]237/237 [==============================] - 6s 27ms/step - loss: 0.0093 - acc: 1.0000 - val_loss: 2.2814 - val_acc: 0.7333\n",
      "\n",
      "Epoch 79/80\n",
      "237/237 [==============================]237/237 [==============================] - 7s 28ms/step - loss: 0.0086 - acc: 1.0000 - val_loss: 2.3405 - val_acc: 0.7167\n",
      "\n",
      "Epoch 80/80\n",
      " 32/237 [===>..........................] 32/237 [===>..........................] - ETA: 4s - loss: 5.2765e-04 - acc: 1.0000"
     ]
    }
   ],
   "source": [
    "model.compile(\n",
    "    optimizer = 'adam',\n",
    "    loss = 'categorical_crossentropy',\n",
    "    metrics = ['accuracy']\n",
    ")\n",
    "\n",
    "batch_size = 32\n",
    "epochs = 80\n",
    "\n",
    "tsb = TensorBoard(\n",
    "        log_dir = './logs_FishNary-3',\n",
    "        batch_size=batch_size,\n",
    "        histogram_freq=1,\n",
    "        write_graph=True,\n",
    "        write_grads=True,\n",
    "        write_images=True\n",
    "        )\n",
    "\n",
    "history_model1 = model.fit(\n",
    "                                    data_train,\n",
    "                                    label_train,\n",
    "                                    batch_size = batch_size,\n",
    "                                    epochs = epochs,\n",
    "                                    validation_split = 0.2,\n",
    "                                    callbacks = [tsb]\n",
    "                                )\n",
    "\n",
    "score = model.evaluate(data_train, label_train, verbose=0)\n",
    "print('Test loss:', score[0])\n",
    "print('Test accuracy:', score[1])\n"
   ]
  },
  {
   "cell_type": "markdown",
   "metadata": {},
   "source": [
    "## 学習したパラメーターモデルのファイルへの保存"
   ]
  },
  {
   "cell_type": "code",
   "execution_count": null,
   "metadata": {},
   "outputs": [],
   "source": [
    "json_string = model.to_json()\n",
    "open('./model-out/FishNary-3_model_setting.json', 'w').write(json_string)\n",
    "\n",
    "model.save(\"./model-out/FishNary-3_model.h5\")\n",
    "model.save_weights('./model-out/FishNary-3_model_weights.h5')"
   ]
  },
  {
   "cell_type": "markdown",
   "metadata": {},
   "source": [
    "## 使ったモデルの図式化"
   ]
  },
  {
   "cell_type": "code",
   "execution_count": null,
   "metadata": {},
   "outputs": [],
   "source": [
    "from keras.utils import plot_model\n",
    "plot_model(model, to_file=\"./model-out/FishNary-3_model_flow.png\", show_shapes=True)"
   ]
  },
  {
   "cell_type": "code",
   "execution_count": null,
   "metadata": {},
   "outputs": [],
   "source": []
  },
  {
   "cell_type": "code",
   "execution_count": null,
   "metadata": {},
   "outputs": [],
   "source": []
  },
  {
   "cell_type": "code",
   "execution_count": null,
   "metadata": {},
   "outputs": [],
   "source": []
  },
  {
   "cell_type": "code",
   "execution_count": null,
   "metadata": {},
   "outputs": [],
   "source": []
  },
  {
   "cell_type": "code",
   "execution_count": null,
   "metadata": {},
   "outputs": [],
   "source": []
  }
 ],
 "metadata": {
  "kernelspec": {
   "display_name": "Python 3",
   "language": "python",
   "name": "python3"
  },
  "language_info": {
   "codemirror_mode": {
    "name": "ipython",
    "version": 3
   },
   "file_extension": ".py",
   "mimetype": "text/x-python",
   "name": "python",
   "nbconvert_exporter": "python",
   "pygments_lexer": "ipython3",
   "version": "3.6.7"
  }
 },
 "nbformat": 4,
 "nbformat_minor": 2
}
